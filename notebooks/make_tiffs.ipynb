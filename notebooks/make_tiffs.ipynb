{
 "cells": [
  {
   "cell_type": "markdown",
   "metadata": {},
   "source": [
    "## Import Modules"
   ]
  },
  {
   "cell_type": "code",
   "execution_count": 1,
   "metadata": {},
   "outputs": [],
   "source": [
    "import h5py\n",
    "import numpy as np\n",
    "import os\n",
    "import glob\n",
    "import tifffile"
   ]
  },
  {
   "cell_type": "markdown",
   "metadata": {},
   "source": [
    "## Get List of h5 files"
   ]
  },
  {
   "cell_type": "code",
   "execution_count": 2,
   "metadata": {},
   "outputs": [],
   "source": [
    "# get list of h5 files\n",
    "dir = \"H:\\My Drive\\Completed\"\n",
    "file_type = \"\\*.h5\"\n",
    "h5_list = glob.glob(dir+file_type)\n",
    "filename = [os.path.basename(f) for f in h5_list]"
   ]
  },
  {
   "cell_type": "markdown",
   "metadata": {},
   "source": [
    "## Make h5 into tifs"
   ]
  },
  {
   "cell_type": "code",
   "execution_count": 3,
   "metadata": {},
   "outputs": [
    {
     "name": "stdout",
     "output_type": "stream",
     "text": [
      "tif file exists\n",
      "tif file exists\n",
      "tif file exists\n",
      "tif file exists\n",
      "tif file exists\n",
      "tif file exists\n",
      "tif file exists\n",
      "tif file exists\n",
      "tif file exists\n",
      "tif doesnt exist, writing new tif file\n"
     ]
    }
   ],
   "source": [
    "raw_folder = 'H:\\\\My Drive\\\\Raw\\\\'\n",
    "mask_folder = 'H:\\\\My Drive\\\\Mask\\\\'\n",
    "\n",
    "for file in filename:\n",
    "    root_ext = os.path.splitext(file) # split basename and extension\n",
    "    new_ext = '.tif'\n",
    "    if not os.path.exists(raw_folder + root_ext[0] + new_ext):\n",
    "        print('tif doesnt exist, writing new tif file')\n",
    "        hf = h5py.File(os.path.join(dir,file),'r')\n",
    "        raw = np.array(hf['project_data'].get('raw_image'))\n",
    "        mask = np.array(hf['project_data'].get('label'))\n",
    "        tifffile.imwrite(raw_folder + root_ext[0] + new_ext,raw)\n",
    "        tifffile.imwrite(mask_folder + root_ext[0] + new_ext,mask)\n",
    "    else:\n",
    "        print('tif file exists')\n"
   ]
  },
  {
   "cell_type": "code",
   "execution_count": 4,
   "metadata": {},
   "outputs": [
    {
     "data": {
      "text/plain": [
       "'H:\\\\My Drive\\\\Raw\\\\000_ML_20190604_B_52616a61.tif'"
      ]
     },
     "execution_count": 4,
     "metadata": {},
     "output_type": "execute_result"
    }
   ],
   "source": [
    "raw_folder = 'H:\\\\My Drive\\\\Raw\\\\'\n",
    "new_ext = '.tif'\n",
    "root_ext = os.path.splitext(filename[0])\n",
    "raw_folder + root_ext[0] + new_ext"
   ]
  },
  {
   "cell_type": "markdown",
   "metadata": {},
   "source": [
    "## Test TIFS"
   ]
  },
  {
   "cell_type": "code",
   "execution_count": 50,
   "metadata": {},
   "outputs": [],
   "source": [
    "test_mask = tifffile.imread(mask_folder + root_ext[0] + new_ext)"
   ]
  },
  {
   "cell_type": "code",
   "execution_count": 52,
   "metadata": {},
   "outputs": [
    {
     "data": {
      "text/plain": [
       "6"
      ]
     },
     "execution_count": 52,
     "metadata": {},
     "output_type": "execute_result"
    }
   ],
   "source": [
    "test_mask.max()"
   ]
  },
  {
   "cell_type": "code",
   "execution_count": null,
   "metadata": {},
   "outputs": [],
   "source": []
  }
 ],
 "metadata": {
  "interpreter": {
   "hash": "20065a1b110db1c7e69292d0a77ac99da4ccbe3f045f34dad7747c56efbdf674"
  },
  "kernelspec": {
   "display_name": "Python 3 (ipykernel)",
   "language": "python",
   "name": "python3"
  },
  "language_info": {
   "codemirror_mode": {
    "name": "ipython",
    "version": 3
   },
   "file_extension": ".py",
   "mimetype": "text/x-python",
   "name": "python",
   "nbconvert_exporter": "python",
   "pygments_lexer": "ipython3",
   "version": "3.9.9"
  }
 },
 "nbformat": 4,
 "nbformat_minor": 4
}
