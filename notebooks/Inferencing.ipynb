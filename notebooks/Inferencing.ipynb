{
 "cells": [
  {
   "cell_type": "markdown",
   "id": "219919d9",
   "metadata": {},
   "source": [
    "## Inferencing Notebook"
   ]
  },
  {
   "cell_type": "code",
   "execution_count": 2,
   "id": "41f678db",
   "metadata": {
    "tags": []
   },
   "outputs": [
    {
     "name": "stderr",
     "output_type": "stream",
     "text": [
      "/Users/jasonfung/miniforge3/envs/ml_env/lib/python3.9/site-packages/tqdm/auto.py:22: TqdmWarning: IProgress not found. Please update jupyter and ipywidgets. See https://ipywidgets.readthedocs.io/en/stable/user_install.html\n",
      "  from .autonotebook import tqdm as notebook_tqdm\n",
      "/Users/jasonfung/miniforge3/envs/ml_env/lib/python3.9/site-packages/torchvision/io/image.py:13: UserWarning: Failed to load image Python extension: dlopen(/Users/jasonfung/miniforge3/envs/ml_env/lib/python3.9/site-packages/torchvision/image.so, 0x0006): Symbol not found: __ZN3c106detail19maybe_wrap_dim_slowExxb\n",
      "  Referenced from: /Users/jasonfung/miniforge3/envs/ml_env/lib/python3.9/site-packages/torchvision/image.so\n",
      "  Expected in: /Users/jasonfung/miniforge3/envs/ml_env/lib/python3.9/site-packages/torch/lib/libc10.dylib\n",
      "  warn(f\"Failed to load image Python extension: {e}\")\n"
     ]
    }
   ],
   "source": [
    "# import core libaries\n",
    "import numpy as np\n",
    "import glob\n",
    "import os\n",
    "import sys\n",
    "import tifffile\n",
    "from processing_functions import *\n",
    "\n",
    "# get working directory\n",
    "path = os.getcwd()\n",
    "sys.path.append(path)\n",
    "\n",
    "# import machine learning libraries\n",
    "import torch\n",
    "from torchvision import transforms, utils"
   ]
  },
  {
   "cell_type": "code",
   "execution_count": 39,
   "id": "55de52bd",
   "metadata": {
    "tags": []
   },
   "outputs": [],
   "source": [
    "# directory for models\n",
    "trained_model = 'ResUNet_62.pth'\n",
    "\n",
    "# initialize cuda if available\n",
    "use_cuda = torch.cuda.is_available()\n",
    "device = torch.device(\"cuda:0\" if use_cuda else \"cpu\")\n",
    "\n",
    "# # if using mac\n",
    "# use_mps = torch.has_mps\n",
    "# device = torch.device('mps' if use_mps else \"cpu\")"
   ]
  },
  {
   "cell_type": "code",
   "execution_count": 40,
   "id": "80b5c37f",
   "metadata": {
    "tags": []
   },
   "outputs": [],
   "source": [
    "# define torch unet model\n",
    "from monai.networks.nets import BasicUNet, UNet\n",
    "\n",
    "dropout = 0.382\n",
    "learning_rate = 0.000754\n",
    "l2 = 0.00421\n",
    "input_chnl = 1\n",
    "output_chnl = 4\n",
    "\n",
    "# model = BasicUNet(spatial_dims=3, \n",
    "#                   in_channels = input_chnl,\n",
    "#                   out_channels = output_chnl,\n",
    "#                   features = (16, 32, 64, 128, 256, 16),\n",
    "#                   norm = \"batch\",\n",
    "#                   dropout = dropout,\n",
    "#                )\n",
    "\n",
    "model = UNet(spatial_dims=3, \n",
    "             in_channels = input_chnl,\n",
    "             out_channels = output_chnl,\n",
    "             channels = (16, 32, 64, 128, 256),\n",
    "             strides=(2, 2, 2, 2),\n",
    "             num_res_units=2,\n",
    "             norm = \"batch\",\n",
    "             dropout = dropout)\n",
    "\n",
    "model = model.to(device)"
   ]
  },
  {
   "cell_type": "code",
   "execution_count": 41,
   "id": "a77dc765",
   "metadata": {
    "tags": []
   },
   "outputs": [
    {
     "data": {
      "text/plain": [
       "<All keys matched successfully>"
      ]
     },
     "execution_count": 41,
     "metadata": {},
     "output_type": "execute_result"
    }
   ],
   "source": [
    "model.load_state_dict(torch.load(f'{trained_model}', map_location=torch.device(device)))"
   ]
  },
  {
   "cell_type": "code",
   "execution_count": 42,
   "id": "3e681a80",
   "metadata": {},
   "outputs": [],
   "source": [
    "# processing raw image\n",
    "lateral_steps = 64\n",
    "axial_steps = 16\n",
    "patch_size = (axial_steps, lateral_steps, lateral_steps)\n",
    "batch_size = 64\n",
    "# split_size = 0.9\n",
    "dim_order = (0,4,1,2,3) # define the image and mask dimension order\n",
    "\n",
    "# Get test images from test images folder\n",
    "raw_path = f\"{path}/Test Images/P_00_200707_N1_15_C2.tif\"\n",
    "raw_img = glob.glob(raw_path)\n",
    "orig_shape = tifffile.imread(raw_img).shape\n",
    "\n",
    "# Use patch transform to normalize and transform ndarray(z,y,x) -> tensor(\n",
    "patch_transform = transforms.Compose([MinMaxScalerVectorized(),\n",
    "                                      patch_imgs(xy_step = lateral_steps, z_step = axial_steps, patch_size = patch_size, is_mask = False)])\n",
    "\n",
    "\n",
    "processed_test_img = MyImageDataset(raw_list = raw_img,\n",
    "                                    mask_list = None,\n",
    "                                    transform = patch_transform,\n",
    "                                    device = device,\n",
    "                                    img_order = dim_order,\n",
    "                                    mask_order = dim_order,\n",
    "                                    num_classes = None,\n",
    "                                    train=False)"
   ]
  },
  {
   "cell_type": "code",
   "execution_count": 47,
   "id": "629b651f",
   "metadata": {},
   "outputs": [
    {
     "ename": "AttributeError",
     "evalue": "'MyImageDataset' object has no attribute 'shape'",
     "output_type": "error",
     "traceback": [
      "\u001b[0;31m---------------------------------------------------------------------------\u001b[0m",
      "\u001b[0;31mAttributeError\u001b[0m                            Traceback (most recent call last)",
      "Input \u001b[0;32mIn [47]\u001b[0m, in \u001b[0;36m<cell line: 1>\u001b[0;34m()\u001b[0m\n\u001b[0;32m----> 1\u001b[0m \u001b[43mprocessed_test_img\u001b[49m\u001b[38;5;241;43m.\u001b[39;49m\u001b[43mshape\u001b[49m\n",
      "\u001b[0;31mAttributeError\u001b[0m: 'MyImageDataset' object has no attribute 'shape'"
     ]
    }
   ],
   "source": [
    "processed_test_img"
   ]
  },
  {
   "cell_type": "code",
   "execution_count": 43,
   "id": "d6d62d70",
   "metadata": {},
   "outputs": [
    {
     "name": "stdout",
     "output_type": "stream",
     "text": [
      "Inferencing Upper Half of Image\n"
     ]
    },
    {
     "name": "stderr",
     "output_type": "stream",
     "text": [
      "100%|█████████████████████████████████████████████| 2/2 [00:03<00:00,  1.60s/it]\n"
     ]
    },
    {
     "name": "stdout",
     "output_type": "stream",
     "text": [
      "Inferencing Lower Half of Image\n"
     ]
    },
    {
     "name": "stderr",
     "output_type": "stream",
     "text": [
      "100%|█████████████████████████████████████████████| 1/1 [00:01<00:00,  1.52s/it]\n"
     ]
    }
   ],
   "source": [
    "reconstructed_img = inference(processed_test_img, \n",
    "                              model, \n",
    "                              batch_size, \n",
    "                              patch_size, \n",
    "                              orig_shape,\n",
    "                              shuffle = False)"
   ]
  },
  {
   "cell_type": "code",
   "execution_count": 44,
   "id": "c5953174",
   "metadata": {},
   "outputs": [],
   "source": [
    "import napari\n",
    "viewer = napari.Viewer()\n",
    "orig_img = tifffile.imread(raw_img)\n",
    "raw_image = viewer.add_image(orig_img, rgb=False)"
   ]
  },
  {
   "cell_type": "code",
   "execution_count": 45,
   "id": "577942a3",
   "metadata": {},
   "outputs": [
    {
     "name": "stderr",
     "output_type": "stream",
     "text": [
      "/Users/jasonfung/miniforge3/envs/ml_env/lib/python3.9/weakref.py:369: RuntimeWarning: coroutine 'get_msg' was never awaited\n",
      "  self.data = {}\n",
      "RuntimeWarning: Enable tracemalloc to get the object allocation traceback\n"
     ]
    }
   ],
   "source": [
    "label_img = viewer.add_labels(reconstructed_img.astype(int))"
   ]
  },
  {
   "cell_type": "code",
   "execution_count": null,
   "id": "5e794aa0",
   "metadata": {},
   "outputs": [],
   "source": []
  }
 ],
 "metadata": {
  "kernelspec": {
   "display_name": "Python 3 (ipykernel)",
   "language": "python",
   "name": "python3"
  },
  "language_info": {
   "codemirror_mode": {
    "name": "ipython",
    "version": 3
   },
   "file_extension": ".py",
   "mimetype": "text/x-python",
   "name": "python",
   "nbconvert_exporter": "python",
   "pygments_lexer": "ipython3",
   "version": "3.9.13"
  }
 },
 "nbformat": 4,
 "nbformat_minor": 5
}
